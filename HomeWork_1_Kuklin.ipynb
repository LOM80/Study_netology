{
 "cells": [
  {
   "cell_type": "code",
   "execution_count": 33,
   "id": "cac3d76e",
   "metadata": {},
   "outputs": [
    {
     "name": "stdout",
     "output_type": "stream",
     "text": [
      "Введите номер года 1700\n",
      "год 1700 не високосный\n"
     ]
    }
   ],
   "source": [
    "#Дана переменная, в которой хранится четырёхзначное число (год). Необходимо написать программу, \n",
    "#которая выведет, является этот год високосным или обычным.\n",
    "\n",
    "while True:\n",
    "    year_str = input(\"Введите номер года \")\n",
    "    try:\n",
    "        year_num = int(year_str)\n",
    "        if year_num%400==0: \n",
    "            year_t='високосный'\n",
    "        elif year_num%4==0 and year_num%100!=0: \n",
    "            year_t='високосный'\n",
    "        else:\n",
    "            year_t='не високосный'\n",
    "        print(\"год \"+year_str+\" \"+year_t)\n",
    "        break\n",
    "    except ValueError: # в случае если введено не число\n",
    "        print(\"Это не правильный ввод. Это строка, попробуйте еще раз.\")"
   ]
  },
  {
   "cell_type": "code",
   "execution_count": 26,
   "id": "d34dcaaa",
   "metadata": {},
   "outputs": [
    {
     "name": "stdout",
     "output_type": "stream",
     "text": [
      "Введите номер билет, ровно 6 цифр 1234\n",
      "Вы ввели номер  1234\n",
      "Слишком мало цифр, попробуйте еще\n",
      "Введите номер билет, ровно 6 цифр 1234567\n",
      "Вы ввели номер  1234567\n",
      "Слишком много цифр, попробуйте еще\n",
      "Введите номер билет, ровно 6 цифр asdfer\n",
      "Это не правильный ввод. Это строка, попробуйте еще раз.\n",
      "Введите номер билет, ровно 6 цифр 234543\n",
      "Вы ввели номер  234543\n",
      "Это несчастливый билет\n"
     ]
    }
   ],
   "source": [
    "\"\"\"\"\n",
    "Дана переменная, в которой хранится шестизначное число (номер проездного билета). Напишите программу, которая будет определять, является ли этот билет счастливым. Билет считается счастливым, если сумма первых трёх цифр совпадает с суммой последних трёх цифр номера.\n",
    "Примеры работы программы:\n",
    "\n",
    "number = 123456\n",
    "Результат:\n",
    "Несчастливый билет\n",
    "\"\"\"\"\n",
    "while True:\n",
    "    ticket_number_str = input(\"Введите номер билет, ровно 6 цифр \")\n",
    "    try:\n",
    "        ticket_number = int(ticket_number_str)\n",
    "        print(\"Вы ввели номер \", ticket_number)\n",
    "        length=len(ticket_number_str)\n",
    "        if length == 6:\n",
    "            if (int(ticket_number_str[0])+int(ticket_number_str[1])+int(ticket_number_str[2]))==(int(ticket_number_str[3])+int(ticket_number_str[4])+int(ticket_number_str[5])):\n",
    "                print('Это счастливый билет')\n",
    "            else:\n",
    "                print(\"Это несчастливый билет\")\n",
    "            break\n",
    "        elif length > 6: \n",
    "            print('Слишком много цифр, попробуйте еще')\n",
    "        else: \n",
    "            print(\"Слишком мало цифр, попробуйте еще\")\n",
    "    except ValueError: # в случае если введено не число\n",
    "        print(\"Это не правильный ввод. Это строка, попробуйте еще раз.\")\n",
    "    \n",
    "    "
   ]
  }
 ],
 "metadata": {
  "kernelspec": {
   "display_name": "Python 3 (ipykernel)",
   "language": "python",
   "name": "python3"
  },
  "language_info": {
   "codemirror_mode": {
    "name": "ipython",
    "version": 3
   },
   "file_extension": ".py",
   "mimetype": "text/x-python",
   "name": "python",
   "nbconvert_exporter": "python",
   "pygments_lexer": "ipython3",
   "version": "3.11.4"
  }
 },
 "nbformat": 4,
 "nbformat_minor": 5
}
